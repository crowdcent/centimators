{
 "cells": [
  {
   "cell_type": "code",
   "execution_count": 1,
   "metadata": {},
   "outputs": [],
   "source": [
    "%load_ext autoreload\n",
    "%autoreload 2"
   ]
  },
  {
   "cell_type": "code",
   "execution_count": 2,
   "metadata": {},
   "outputs": [],
   "source": [
    "import pandas as pd\n",
    "import polars as pl\n",
    "import numpy as np\n",
    "from datetime import datetime, timedelta\n",
    "\n",
    "from centimators.data_transformers import (\n",
    "    RankTransformer,\n",
    "    LagTransformer,\n",
    "    MovingAverageTransformer,\n",
    "    LogReturnTransformer,\n",
    ")"
   ]
  },
  {
   "cell_type": "markdown",
   "metadata": {},
   "source": [
    "## Mock price data"
   ]
  },
  {
   "cell_type": "code",
   "execution_count": 39,
   "metadata": {},
   "outputs": [],
   "source": [
    "dates = [datetime.now() - timedelta(days=i) for i in range(90)]\n",
    "dates.reverse()\n",
    "\n",
    "# Generate 5 tickers\n",
    "tickers = [f\"Ticker{i}\" for i in range(1, 21)]\n",
    "\n",
    "# Generate random OHLCV data\n",
    "data = {\n",
    "    \"ticker\": [],\n",
    "    \"date\": [],\n",
    "    \"open\": [],\n",
    "    \"high\": [],\n",
    "    \"low\": [],\n",
    "    \"close\": [],\n",
    "    \"volume\": [],\n",
    "}\n",
    "\n",
    "for ticker in tickers:\n",
    "    # Start with random base price between 10 and 1000\n",
    "    base_price = np.random.uniform(10, 1000)\n",
    "    for date in dates:\n",
    "        # Generate daily price movements\n",
    "        daily_return = np.random.normal(0.005, 0.03)  # Mean 0.5%, std 3%\n",
    "        close = base_price * (1 + daily_return)\n",
    "        high = close * (1 + abs(np.random.normal(0, 0.01)))\n",
    "        low = close * (1 - abs(np.random.normal(0, 0.01)))\n",
    "        open_price = close * (1 + np.random.normal(0, 0.005))\n",
    "        volume = int(np.random.lognormal(10, 1))\n",
    "\n",
    "        data[\"ticker\"].append(ticker)\n",
    "        data[\"date\"].append(date)\n",
    "        data[\"open\"].append(round(open_price, 2))\n",
    "        data[\"high\"].append(round(high, 2))\n",
    "        data[\"low\"].append(round(low, 2))\n",
    "        data[\"close\"].append(round(close, 2))\n",
    "        data[\"volume\"].append(volume)\n",
    "\n",
    "        base_price = close  # Use today's close as tomorrow's base price\n",
    "\n",
    "df_pandas = pd.DataFrame(data)\n",
    "df_polars = pl.DataFrame(data)"
   ]
  },
  {
   "cell_type": "code",
   "execution_count": null,
   "metadata": {},
   "outputs": [],
   "source": [
    "df_polars.plot.line(x=\"date\", y=\"close\", color=\"ticker\").properties(width=800, height=400, title=\"Stock Prices Over Time\")"
   ]
  },
  {
   "cell_type": "markdown",
   "metadata": {},
   "source": [
    "## Instantiate transformers"
   ]
  },
  {
   "cell_type": "code",
   "execution_count": null,
   "metadata": {},
   "outputs": [],
   "source": [
    "ranker: RankTransformer = RankTransformer()\n",
    "ranker\n",
    "\n",
    "lag_windows = [0, 1, 2, 3, 4]\n",
    "lagger: LagTransformer = LagTransformer(windows=lag_windows)\n",
    "\n",
    "ma_windows = [5, 20, 50]\n",
    "ma_transformer = MovingAverageTransformer(windows=ma_windows)\n",
    "\n",
    "log_return_transformer = LogReturnTransformer()\n",
    "\n",
    "display(log_return_transformer, ranker, lagger, ma_transformer)"
   ]
  },
  {
   "cell_type": "markdown",
   "metadata": {},
   "source": [
    "## In a pipeline"
   ]
  },
  {
   "cell_type": "code",
   "execution_count": 59,
   "metadata": {},
   "outputs": [],
   "source": [
    "from sklearn import set_config\n",
    "from sklearn.pipeline import make_pipeline\n",
    "\n",
    "set_config(enable_metadata_routing=True)"
   ]
  },
  {
   "cell_type": "code",
   "execution_count": null,
   "metadata": {},
   "outputs": [],
   "source": [
    "# Use scikit-learn metadata routing API (i.e. set_transform_request)\n",
    "lagger = LagTransformer(windows=lag_windows).set_transform_request(ticker_series=True)\n",
    "ranker = RankTransformer().set_transform_request(date_series=True)\n",
    "ma_transformer = MovingAverageTransformer(windows=ma_windows).set_transform_request(\n",
    "    ticker_series=True\n",
    ")\n",
    "log_return_transformer = LogReturnTransformer().set_transform_request(\n",
    "    ticker_series=True\n",
    ")\n",
    "\n",
    "lagged_ranker = make_pipeline(log_return_transformer, ranker, lagger, ma_transformer)\n",
    "display(lagged_ranker)"
   ]
  },
  {
   "cell_type": "code",
   "execution_count": null,
   "metadata": {},
   "outputs": [],
   "source": [
    "feature_names = [\"open\", \"close\", \"volume\"]\n",
    "transformed_df = lagged_ranker.fit_transform(\n",
    "    df_polars[feature_names],\n",
    "    date_series=df_polars[\"date\"],\n",
    "    ticker_series=df_polars[\"ticker\"],\n",
    ")\n",
    "transformed_df"
   ]
  },
  {
   "cell_type": "code",
   "execution_count": null,
   "metadata": {},
   "outputs": [],
   "source": [
    "# Visualization of the transformation into features\n",
    "chart_df = pl.concat([df_polars, transformed_df], how=\"horizontal\")\n",
    "(\n",
    "    chart_df.plot.line(x=\"date\", y=\"close\", color=\"ticker\").properties(\n",
    "        width=400, height=400, title=\"Stock Prices Over Time\"\n",
    "    )\n",
    "    | chart_df.plot.line(\n",
    "        x=\"date\", y=\"close_log_return_rank_lag_0_ma20\", color=\"ticker\"\n",
    "    ).properties(width=400, height=400, title=\"Normalized and Smoothed Average Features\")\n",
    ").interactive()"
   ]
  }
 ],
 "metadata": {
  "kernelspec": {
   "display_name": ".venv",
   "language": "python",
   "name": "python3"
  },
  "language_info": {
   "codemirror_mode": {
    "name": "ipython",
    "version": 3
   },
   "file_extension": ".py",
   "mimetype": "text/x-python",
   "name": "python",
   "nbconvert_exporter": "python",
   "pygments_lexer": "ipython3",
   "version": "3.12.7"
  }
 },
 "nbformat": 4,
 "nbformat_minor": 2
}
